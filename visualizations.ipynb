{
  "nbformat": 4,
  "nbformat_minor": 0,
  "metadata": {
    "colab": {
      "name": "visualizations.ipynb",
      "version": "0.3.2",
      "provenance": [],
      "include_colab_link": true
    },
    "kernelspec": {
      "name": "python3",
      "display_name": "Python 3"
    }
  },
  "cells": [
    {
      "cell_type": "markdown",
      "metadata": {
        "id": "view-in-github",
        "colab_type": "text"
      },
      "source": [
        "<a href=\"https://colab.research.google.com/github/jazzathoth/DataStorytelling_ProjectRepo/blob/master/visualizations.ipynb\" target=\"_parent\"><img src=\"https://colab.research.google.com/assets/colab-badge.svg\" alt=\"Open In Colab\"/></a>"
      ]
    },
    {
      "metadata": {
        "id": "64UoC6BK59s0",
        "colab_type": "code",
        "colab": {}
      },
      "cell_type": "code",
      "source": [
        "import pandas as pd\n",
        "import numpy as np\n",
        "import matplotlib.pyplot as plt\n",
        "import io\n"
      ],
      "execution_count": 0,
      "outputs": []
    },
    {
      "metadata": {
        "id": "2nDVWjHm4KHv",
        "colab_type": "code",
        "colab": {}
      },
      "cell_type": "code",
      "source": [
        "planets_conf_url = 'https://github.com/jazzathoth/DataStorytelling_ProjectRepo/raw/master/q1_q17_dr24_koi_2019.04.15_15.49.49.csv'\n",
        "\n",
        "planets_conf = pd.read_csv(planets_conf_url, comment='#')"
      ],
      "execution_count": 0,
      "outputs": []
    },
    {
      "metadata": {
        "id": "9DNtBNBA6PBI",
        "colab_type": "code",
        "outputId": "04f7fdce-89a6-43e2-910b-44b333acfae0",
        "colab": {
          "base_uri": "https://localhost:8080/",
          "height": 34
        }
      },
      "cell_type": "code",
      "source": [
        "planets_conf.shape\n"
      ],
      "execution_count": 0,
      "outputs": [
        {
          "output_type": "execute_result",
          "data": {
            "text/plain": [
              "(2280, 25)"
            ]
          },
          "metadata": {
            "tags": []
          },
          "execution_count": 3
        }
      ]
    },
    {
      "metadata": {
        "id": "MeYZcW266nH4",
        "colab_type": "code",
        "outputId": "a90d9200-57c9-4db4-dbf0-b846822aadcb",
        "colab": {
          "base_uri": "https://localhost:8080/",
          "height": 119
        }
      },
      "cell_type": "code",
      "source": [
        "planets_conf.columns"
      ],
      "execution_count": 0,
      "outputs": [
        {
          "output_type": "execute_result",
          "data": {
            "text/plain": [
              "Index(['loc_rowid', 'kepid', 'kepoi_name', 'kepler_name', 'koi_disposition',\n",
              "       'koi_period', 'koi_time0bk', 'koi_impact', 'koi_duration', 'koi_depth',\n",
              "       'koi_prad', 'koi_sma', 'koi_incl', 'koi_teq', 'koi_insol',\n",
              "       'koi_tce_plnt_num', 'koi_steff', 'koi_slogg', 'koi_smet', 'koi_srad',\n",
              "       'koi_smass', 'koi_sage', 'ra', 'dec', 'koi_kepmag'],\n",
              "      dtype='object')"
            ]
          },
          "metadata": {
            "tags": []
          },
          "execution_count": 4
        }
      ]
    },
    {
      "metadata": {
        "id": "LlIGBipk63Mo",
        "colab_type": "code",
        "outputId": "a67c2c58-3007-4d46-bcb8-1162e1fc778f",
        "colab": {
          "base_uri": "https://localhost:8080/",
          "height": 253
        }
      },
      "cell_type": "code",
      "source": [
        "planets_conf.head()"
      ],
      "execution_count": 0,
      "outputs": [
        {
          "output_type": "execute_result",
          "data": {
            "text/html": [
              "<div>\n",
              "<style scoped>\n",
              "    .dataframe tbody tr th:only-of-type {\n",
              "        vertical-align: middle;\n",
              "    }\n",
              "\n",
              "    .dataframe tbody tr th {\n",
              "        vertical-align: top;\n",
              "    }\n",
              "\n",
              "    .dataframe thead th {\n",
              "        text-align: right;\n",
              "    }\n",
              "</style>\n",
              "<table border=\"1\" class=\"dataframe\">\n",
              "  <thead>\n",
              "    <tr style=\"text-align: right;\">\n",
              "      <th></th>\n",
              "      <th>loc_rowid</th>\n",
              "      <th>kepid</th>\n",
              "      <th>kepoi_name</th>\n",
              "      <th>kepler_name</th>\n",
              "      <th>koi_disposition</th>\n",
              "      <th>koi_period</th>\n",
              "      <th>koi_time0bk</th>\n",
              "      <th>koi_impact</th>\n",
              "      <th>koi_duration</th>\n",
              "      <th>koi_depth</th>\n",
              "      <th>...</th>\n",
              "      <th>koi_tce_plnt_num</th>\n",
              "      <th>koi_steff</th>\n",
              "      <th>koi_slogg</th>\n",
              "      <th>koi_smet</th>\n",
              "      <th>koi_srad</th>\n",
              "      <th>koi_smass</th>\n",
              "      <th>koi_sage</th>\n",
              "      <th>ra</th>\n",
              "      <th>dec</th>\n",
              "      <th>koi_kepmag</th>\n",
              "    </tr>\n",
              "  </thead>\n",
              "  <tbody>\n",
              "    <tr>\n",
              "      <th>0</th>\n",
              "      <td>1</td>\n",
              "      <td>11446443</td>\n",
              "      <td>K00001.01</td>\n",
              "      <td>Kepler-1 b</td>\n",
              "      <td>CONFIRMED</td>\n",
              "      <td>2.470613</td>\n",
              "      <td>122.763301</td>\n",
              "      <td>0.8186</td>\n",
              "      <td>1.74259</td>\n",
              "      <td>14186.0</td>\n",
              "      <td>...</td>\n",
              "      <td>1</td>\n",
              "      <td>5850.0</td>\n",
              "      <td>4.455</td>\n",
              "      <td>-0.15</td>\n",
              "      <td>0.950</td>\n",
              "      <td>0.940</td>\n",
              "      <td>NaN</td>\n",
              "      <td>286.80847</td>\n",
              "      <td>49.316399</td>\n",
              "      <td>11.338</td>\n",
              "    </tr>\n",
              "    <tr>\n",
              "      <th>1</th>\n",
              "      <td>2</td>\n",
              "      <td>10666592</td>\n",
              "      <td>K00002.01</td>\n",
              "      <td>Kepler-2 b</td>\n",
              "      <td>CONFIRMED</td>\n",
              "      <td>2.204735</td>\n",
              "      <td>121.358572</td>\n",
              "      <td>0.0010</td>\n",
              "      <td>3.88216</td>\n",
              "      <td>6690.6</td>\n",
              "      <td>...</td>\n",
              "      <td>1</td>\n",
              "      <td>6350.0</td>\n",
              "      <td>4.021</td>\n",
              "      <td>0.26</td>\n",
              "      <td>1.991</td>\n",
              "      <td>1.520</td>\n",
              "      <td>NaN</td>\n",
              "      <td>292.24728</td>\n",
              "      <td>47.969521</td>\n",
              "      <td>10.463</td>\n",
              "    </tr>\n",
              "    <tr>\n",
              "      <th>2</th>\n",
              "      <td>3</td>\n",
              "      <td>10748390</td>\n",
              "      <td>K00003.01</td>\n",
              "      <td>Kepler-3 b</td>\n",
              "      <td>CONFIRMED</td>\n",
              "      <td>4.887803</td>\n",
              "      <td>124.813141</td>\n",
              "      <td>0.0260</td>\n",
              "      <td>2.36386</td>\n",
              "      <td>4342.1</td>\n",
              "      <td>...</td>\n",
              "      <td>1</td>\n",
              "      <td>4777.0</td>\n",
              "      <td>4.590</td>\n",
              "      <td>0.32</td>\n",
              "      <td>0.765</td>\n",
              "      <td>0.829</td>\n",
              "      <td>NaN</td>\n",
              "      <td>297.70935</td>\n",
              "      <td>48.080853</td>\n",
              "      <td>9.174</td>\n",
              "    </tr>\n",
              "    <tr>\n",
              "      <th>3</th>\n",
              "      <td>4</td>\n",
              "      <td>3861595</td>\n",
              "      <td>K00004.01</td>\n",
              "      <td>Kepler-1658 b</td>\n",
              "      <td>CONFIRMED</td>\n",
              "      <td>3.849372</td>\n",
              "      <td>157.526738</td>\n",
              "      <td>0.9193</td>\n",
              "      <td>2.66050</td>\n",
              "      <td>1317.3</td>\n",
              "      <td>...</td>\n",
              "      <td>1</td>\n",
              "      <td>6244.0</td>\n",
              "      <td>3.657</td>\n",
              "      <td>-0.16</td>\n",
              "      <td>2.992</td>\n",
              "      <td>1.482</td>\n",
              "      <td>NaN</td>\n",
              "      <td>294.35654</td>\n",
              "      <td>38.947380</td>\n",
              "      <td>11.432</td>\n",
              "    </tr>\n",
              "    <tr>\n",
              "      <th>4</th>\n",
              "      <td>7</td>\n",
              "      <td>11853905</td>\n",
              "      <td>K00007.01</td>\n",
              "      <td>Kepler-4 b</td>\n",
              "      <td>CONFIRMED</td>\n",
              "      <td>3.213669</td>\n",
              "      <td>123.611934</td>\n",
              "      <td>0.0189</td>\n",
              "      <td>3.99355</td>\n",
              "      <td>727.7</td>\n",
              "      <td>...</td>\n",
              "      <td>1</td>\n",
              "      <td>5781.0</td>\n",
              "      <td>4.105</td>\n",
              "      <td>0.09</td>\n",
              "      <td>1.533</td>\n",
              "      <td>1.092</td>\n",
              "      <td>NaN</td>\n",
              "      <td>285.61533</td>\n",
              "      <td>50.135750</td>\n",
              "      <td>12.211</td>\n",
              "    </tr>\n",
              "  </tbody>\n",
              "</table>\n",
              "<p>5 rows × 25 columns</p>\n",
              "</div>"
            ],
            "text/plain": [
              "   loc_rowid     kepid kepoi_name    kepler_name koi_disposition  koi_period  \\\n",
              "0          1  11446443  K00001.01     Kepler-1 b       CONFIRMED    2.470613   \n",
              "1          2  10666592  K00002.01     Kepler-2 b       CONFIRMED    2.204735   \n",
              "2          3  10748390  K00003.01     Kepler-3 b       CONFIRMED    4.887803   \n",
              "3          4   3861595  K00004.01  Kepler-1658 b       CONFIRMED    3.849372   \n",
              "4          7  11853905  K00007.01     Kepler-4 b       CONFIRMED    3.213669   \n",
              "\n",
              "   koi_time0bk  koi_impact  koi_duration  koi_depth     ...      \\\n",
              "0   122.763301      0.8186       1.74259    14186.0     ...       \n",
              "1   121.358572      0.0010       3.88216     6690.6     ...       \n",
              "2   124.813141      0.0260       2.36386     4342.1     ...       \n",
              "3   157.526738      0.9193       2.66050     1317.3     ...       \n",
              "4   123.611934      0.0189       3.99355      727.7     ...       \n",
              "\n",
              "   koi_tce_plnt_num  koi_steff  koi_slogg  koi_smet  koi_srad  koi_smass  \\\n",
              "0                 1     5850.0      4.455     -0.15     0.950      0.940   \n",
              "1                 1     6350.0      4.021      0.26     1.991      1.520   \n",
              "2                 1     4777.0      4.590      0.32     0.765      0.829   \n",
              "3                 1     6244.0      3.657     -0.16     2.992      1.482   \n",
              "4                 1     5781.0      4.105      0.09     1.533      1.092   \n",
              "\n",
              "   koi_sage         ra        dec  koi_kepmag  \n",
              "0       NaN  286.80847  49.316399      11.338  \n",
              "1       NaN  292.24728  47.969521      10.463  \n",
              "2       NaN  297.70935  48.080853       9.174  \n",
              "3       NaN  294.35654  38.947380      11.432  \n",
              "4       NaN  285.61533  50.135750      12.211  \n",
              "\n",
              "[5 rows x 25 columns]"
            ]
          },
          "metadata": {
            "tags": []
          },
          "execution_count": 5
        }
      ]
    },
    {
      "metadata": {
        "id": "LeVpXMd886UJ",
        "colab_type": "code",
        "colab": {}
      },
      "cell_type": "code",
      "source": [
        "smallest20 = planets_conf.sort_values(by='koi_prad').head(20)"
      ],
      "execution_count": 0,
      "outputs": []
    },
    {
      "metadata": {
        "id": "qTs1vyRB_7fp",
        "colab_type": "code",
        "colab": {}
      },
      "cell_type": "code",
      "source": [
        "largest20 = planets_conf.sort_values(by='koi_prad', ascending=False).head(20)"
      ],
      "execution_count": 0,
      "outputs": []
    },
    {
      "metadata": {
        "id": "BFBu4f15MQGp",
        "colab_type": "code",
        "colab": {}
      },
      "cell_type": "code",
      "source": [
        "q17_urls_url = 'https://raw.githubusercontent.com/jazzathoth/DataStorytelling_ProjectRepo/master/kepler_q17.csv'\n",
        "q17_urls = pd.read_csv(q17_urls_url)"
      ],
      "execution_count": 0,
      "outputs": []
    },
    {
      "metadata": {
        "id": "1t89ebYPQdlT",
        "colab_type": "code",
        "colab": {}
      },
      "cell_type": "code",
      "source": [
        "lc_url_file.columns = ['kepid', 'lc_url']"
      ],
      "execution_count": 0,
      "outputs": []
    },
    {
      "metadata": {
        "id": "C6N6_EwZQ04x",
        "colab_type": "code",
        "colab": {}
      },
      "cell_type": "code",
      "source": [
        "lc_url_file = lc_url_file[~lc_url_file['kepid'].str.contains(\".fits\")]\n",
        "lc_url_file['kepid'] =  lc_url_file['kepid'].str.replace(\"'kplr\",\"\")\n",
        "lc_url_file['kepid'] =  lc_url_file['kepid'].str.replace(\"-2013131215648_llc_lc.tbl'\", \"\")\n",
        "lc_url_file['kepid'] =  lc_url_file['kepid'].str.replace(\"-2013121191144_slc_lc.tbl'\", \"\")\n",
        "lc_url_file['kepid'] =  lc_url_file['kepid'].str.replace(\"-2013131215648_slc_lc.tbl'\", \"\")\n",
        "\n"
      ],
      "execution_count": 0,
      "outputs": []
    },
    {
      "metadata": {
        "id": "YGjPSRv3ZKEF",
        "colab_type": "code",
        "colab": {}
      },
      "cell_type": "code",
      "source": [
        "url_conf_url = 'https://raw.githubusercontent.com/jazzathoth/DataStorytelling_ProjectRepo/master/kepler_conf.csv'\n",
        "url_conf = pd.read_csv(lc_file_url)\n",
        "url_conf.columns = ['kepid','lc_url']"
      ],
      "execution_count": 0,
      "outputs": []
    },
    {
      "metadata": {
        "id": "OpAPsdPePeBu",
        "colab_type": "code",
        "colab": {}
      },
      "cell_type": "code",
      "source": [
        "url_conf = url_conf[~url_conf['kepid'].str.contains(\".fits\")]\n",
        "url_conf['kepid'] =  url_conf['kepid'].str.replace(\"'kplr\",\"\")\n"
      ],
      "execution_count": 0,
      "outputs": []
    },
    {
      "metadata": {
        "id": "EE12T0BRTxs_",
        "colab_type": "code",
        "colab": {}
      },
      "cell_type": "code",
      "source": [
        "url_conf2 = pd.DataFrame(url_conf['kepid'].str.split('-', 1).tolist(), columns=['kepid', 'rem'])\n",
        "url_conf['kepid'] = url_conf2['kepid']"
      ],
      "execution_count": 0,
      "outputs": []
    },
    {
      "metadata": {
        "id": "8GmwR-dpU42p",
        "colab_type": "code",
        "colab": {}
      },
      "cell_type": "code",
      "source": [
        "url_conf['kepid'] = url_conf['kepid'].fillna(0)\n",
        "url_conf.isnull().sum()"
      ],
      "execution_count": 0,
      "outputs": []
    },
    {
      "metadata": {
        "id": "7fNmuPAAPq-U",
        "colab_type": "code",
        "colab": {}
      },
      "cell_type": "code",
      "source": [
        "url_conf['kepid'] = url_conf['kepid'].astype(int)"
      ],
      "execution_count": 0,
      "outputs": []
    },
    {
      "metadata": {
        "id": "yEDyY7ASRoyR",
        "colab_type": "code",
        "colab": {}
      },
      "cell_type": "code",
      "source": [
        "lc_url_file['kepid'] = lc_url_file['kepid'].astype(int)"
      ],
      "execution_count": 0,
      "outputs": []
    },
    {
      "metadata": {
        "id": "0Bq7EGFaSAHh",
        "colab_type": "code",
        "outputId": "b165e6c5-ccf0-4e2b-efb6-cb7db4514d1e",
        "colab": {
          "base_uri": "https://localhost:8080/",
          "height": 359
        }
      },
      "cell_type": "code",
      "source": [
        "lc_url_file.head(10)"
      ],
      "execution_count": 0,
      "outputs": [
        {
          "output_type": "execute_result",
          "data": {
            "text/html": [
              "<div>\n",
              "<style scoped>\n",
              "    .dataframe tbody tr th:only-of-type {\n",
              "        vertical-align: middle;\n",
              "    }\n",
              "\n",
              "    .dataframe tbody tr th {\n",
              "        vertical-align: top;\n",
              "    }\n",
              "\n",
              "    .dataframe thead th {\n",
              "        text-align: right;\n",
              "    }\n",
              "</style>\n",
              "<table border=\"1\" class=\"dataframe\">\n",
              "  <thead>\n",
              "    <tr style=\"text-align: right;\">\n",
              "      <th></th>\n",
              "      <th>kepid</th>\n",
              "      <th>lc_url</th>\n",
              "    </tr>\n",
              "  </thead>\n",
              "  <tbody>\n",
              "    <tr>\n",
              "      <th>0</th>\n",
              "      <td>10000009</td>\n",
              "      <td>'http://exoplanetarchive.ipac.caltech.edu:80/d...</td>\n",
              "    </tr>\n",
              "    <tr>\n",
              "      <th>2</th>\n",
              "      <td>10000069</td>\n",
              "      <td>'http://exoplanetarchive.ipac.caltech.edu:80/d...</td>\n",
              "    </tr>\n",
              "    <tr>\n",
              "      <th>4</th>\n",
              "      <td>10000083</td>\n",
              "      <td>'http://exoplanetarchive.ipac.caltech.edu:80/d...</td>\n",
              "    </tr>\n",
              "    <tr>\n",
              "      <th>6</th>\n",
              "      <td>10000090</td>\n",
              "      <td>'http://exoplanetarchive.ipac.caltech.edu:80/d...</td>\n",
              "    </tr>\n",
              "    <tr>\n",
              "      <th>8</th>\n",
              "      <td>100000925</td>\n",
              "      <td>'http://exoplanetarchive.ipac.caltech.edu:80/d...</td>\n",
              "    </tr>\n",
              "    <tr>\n",
              "      <th>10</th>\n",
              "      <td>100000926</td>\n",
              "      <td>'http://exoplanetarchive.ipac.caltech.edu:80/d...</td>\n",
              "    </tr>\n",
              "    <tr>\n",
              "      <th>12</th>\n",
              "      <td>100000927</td>\n",
              "      <td>'http://exoplanetarchive.ipac.caltech.edu:80/d...</td>\n",
              "    </tr>\n",
              "    <tr>\n",
              "      <th>14</th>\n",
              "      <td>100000928</td>\n",
              "      <td>'http://exoplanetarchive.ipac.caltech.edu:80/d...</td>\n",
              "    </tr>\n",
              "    <tr>\n",
              "      <th>16</th>\n",
              "      <td>100000929</td>\n",
              "      <td>'http://exoplanetarchive.ipac.caltech.edu:80/d...</td>\n",
              "    </tr>\n",
              "    <tr>\n",
              "      <th>18</th>\n",
              "      <td>100000930</td>\n",
              "      <td>'http://exoplanetarchive.ipac.caltech.edu:80/d...</td>\n",
              "    </tr>\n",
              "  </tbody>\n",
              "</table>\n",
              "</div>"
            ],
            "text/plain": [
              "        kepid                                             lc_url\n",
              "0    10000009  'http://exoplanetarchive.ipac.caltech.edu:80/d...\n",
              "2    10000069  'http://exoplanetarchive.ipac.caltech.edu:80/d...\n",
              "4    10000083  'http://exoplanetarchive.ipac.caltech.edu:80/d...\n",
              "6    10000090  'http://exoplanetarchive.ipac.caltech.edu:80/d...\n",
              "8   100000925  'http://exoplanetarchive.ipac.caltech.edu:80/d...\n",
              "10  100000926  'http://exoplanetarchive.ipac.caltech.edu:80/d...\n",
              "12  100000927  'http://exoplanetarchive.ipac.caltech.edu:80/d...\n",
              "14  100000928  'http://exoplanetarchive.ipac.caltech.edu:80/d...\n",
              "16  100000929  'http://exoplanetarchive.ipac.caltech.edu:80/d...\n",
              "18  100000930  'http://exoplanetarchive.ipac.caltech.edu:80/d..."
            ]
          },
          "metadata": {
            "tags": []
          },
          "execution_count": 25
        }
      ]
    },
    {
      "metadata": {
        "id": "7MAm127yT94A",
        "colab_type": "code",
        "outputId": "2c1b10d6-5123-40e8-ed28-6ee4c56d6d8e",
        "colab": {
          "base_uri": "https://localhost:8080/",
          "height": 253
        }
      },
      "cell_type": "code",
      "source": [
        "smallest20.head()"
      ],
      "execution_count": 0,
      "outputs": [
        {
          "output_type": "execute_result",
          "data": {
            "text/html": [
              "<div>\n",
              "<style scoped>\n",
              "    .dataframe tbody tr th:only-of-type {\n",
              "        vertical-align: middle;\n",
              "    }\n",
              "\n",
              "    .dataframe tbody tr th {\n",
              "        vertical-align: top;\n",
              "    }\n",
              "\n",
              "    .dataframe thead th {\n",
              "        text-align: right;\n",
              "    }\n",
              "</style>\n",
              "<table border=\"1\" class=\"dataframe\">\n",
              "  <thead>\n",
              "    <tr style=\"text-align: right;\">\n",
              "      <th></th>\n",
              "      <th>loc_rowid</th>\n",
              "      <th>kepid</th>\n",
              "      <th>kepoi_name</th>\n",
              "      <th>kepler_name</th>\n",
              "      <th>koi_disposition</th>\n",
              "      <th>koi_period</th>\n",
              "      <th>koi_time0bk</th>\n",
              "      <th>koi_impact</th>\n",
              "      <th>koi_duration</th>\n",
              "      <th>koi_depth</th>\n",
              "      <th>...</th>\n",
              "      <th>koi_tce_plnt_num</th>\n",
              "      <th>koi_steff</th>\n",
              "      <th>koi_slogg</th>\n",
              "      <th>koi_smet</th>\n",
              "      <th>koi_srad</th>\n",
              "      <th>koi_smass</th>\n",
              "      <th>koi_sage</th>\n",
              "      <th>ra</th>\n",
              "      <th>dec</th>\n",
              "      <th>koi_kepmag</th>\n",
              "    </tr>\n",
              "  </thead>\n",
              "  <tbody>\n",
              "    <tr>\n",
              "      <th>2050</th>\n",
              "      <td>3882</td>\n",
              "      <td>6278762</td>\n",
              "      <td>K03158.02</td>\n",
              "      <td>Kepler-444 c</td>\n",
              "      <td>CONFIRMED</td>\n",
              "      <td>4.545878</td>\n",
              "      <td>131.52276</td>\n",
              "      <td>0.3425</td>\n",
              "      <td>1.7367</td>\n",
              "      <td>44.0</td>\n",
              "      <td>...</td>\n",
              "      <td>4</td>\n",
              "      <td>5032.0</td>\n",
              "      <td>4.683</td>\n",
              "      <td>-0.96</td>\n",
              "      <td>0.593</td>\n",
              "      <td>0.618</td>\n",
              "      <td>NaN</td>\n",
              "      <td>289.75229</td>\n",
              "      <td>41.634605</td>\n",
              "      <td>8.717</td>\n",
              "    </tr>\n",
              "    <tr>\n",
              "      <th>2051</th>\n",
              "      <td>3883</td>\n",
              "      <td>6278762</td>\n",
              "      <td>K03158.03</td>\n",
              "      <td>Kepler-444 d</td>\n",
              "      <td>CONFIRMED</td>\n",
              "      <td>6.189406</td>\n",
              "      <td>134.78672</td>\n",
              "      <td>0.2567</td>\n",
              "      <td>2.2112</td>\n",
              "      <td>47.5</td>\n",
              "      <td>...</td>\n",
              "      <td>2</td>\n",
              "      <td>5032.0</td>\n",
              "      <td>4.683</td>\n",
              "      <td>-0.96</td>\n",
              "      <td>0.593</td>\n",
              "      <td>0.618</td>\n",
              "      <td>NaN</td>\n",
              "      <td>289.75229</td>\n",
              "      <td>41.634605</td>\n",
              "      <td>8.717</td>\n",
              "    </tr>\n",
              "    <tr>\n",
              "      <th>2052</th>\n",
              "      <td>3884</td>\n",
              "      <td>6278762</td>\n",
              "      <td>K03158.04</td>\n",
              "      <td>Kepler-444 e</td>\n",
              "      <td>CONFIRMED</td>\n",
              "      <td>7.743476</td>\n",
              "      <td>135.09376</td>\n",
              "      <td>0.3471</td>\n",
              "      <td>2.7852</td>\n",
              "      <td>51.3</td>\n",
              "      <td>...</td>\n",
              "      <td>3</td>\n",
              "      <td>5032.0</td>\n",
              "      <td>4.683</td>\n",
              "      <td>-0.96</td>\n",
              "      <td>0.593</td>\n",
              "      <td>0.618</td>\n",
              "      <td>NaN</td>\n",
              "      <td>289.75229</td>\n",
              "      <td>41.634605</td>\n",
              "      <td>8.717</td>\n",
              "    </tr>\n",
              "    <tr>\n",
              "      <th>32</th>\n",
              "      <td>64</td>\n",
              "      <td>10187017</td>\n",
              "      <td>K00082.05</td>\n",
              "      <td>Kepler-102 b</td>\n",
              "      <td>CONFIRMED</td>\n",
              "      <td>5.286954</td>\n",
              "      <td>135.85194</td>\n",
              "      <td>0.4052</td>\n",
              "      <td>2.5910</td>\n",
              "      <td>43.0</td>\n",
              "      <td>...</td>\n",
              "      <td>5</td>\n",
              "      <td>4812.0</td>\n",
              "      <td>4.548</td>\n",
              "      <td>0.02</td>\n",
              "      <td>0.755</td>\n",
              "      <td>0.734</td>\n",
              "      <td>NaN</td>\n",
              "      <td>281.48273</td>\n",
              "      <td>47.208031</td>\n",
              "      <td>11.492</td>\n",
              "    </tr>\n",
              "    <tr>\n",
              "      <th>2053</th>\n",
              "      <td>3885</td>\n",
              "      <td>6278762</td>\n",
              "      <td>K03158.05</td>\n",
              "      <td>Kepler-444 f</td>\n",
              "      <td>CONFIRMED</td>\n",
              "      <td>9.740484</td>\n",
              "      <td>134.88007</td>\n",
              "      <td>0.0983</td>\n",
              "      <td>1.6909</td>\n",
              "      <td>75.6</td>\n",
              "      <td>...</td>\n",
              "      <td>1</td>\n",
              "      <td>5032.0</td>\n",
              "      <td>4.683</td>\n",
              "      <td>-0.96</td>\n",
              "      <td>0.593</td>\n",
              "      <td>0.618</td>\n",
              "      <td>NaN</td>\n",
              "      <td>289.75229</td>\n",
              "      <td>41.634605</td>\n",
              "      <td>8.717</td>\n",
              "    </tr>\n",
              "  </tbody>\n",
              "</table>\n",
              "<p>5 rows × 25 columns</p>\n",
              "</div>"
            ],
            "text/plain": [
              "      loc_rowid     kepid kepoi_name   kepler_name koi_disposition  \\\n",
              "2050       3882   6278762  K03158.02  Kepler-444 c       CONFIRMED   \n",
              "2051       3883   6278762  K03158.03  Kepler-444 d       CONFIRMED   \n",
              "2052       3884   6278762  K03158.04  Kepler-444 e       CONFIRMED   \n",
              "32           64  10187017  K00082.05  Kepler-102 b       CONFIRMED   \n",
              "2053       3885   6278762  K03158.05  Kepler-444 f       CONFIRMED   \n",
              "\n",
              "      koi_period  koi_time0bk  koi_impact  koi_duration  koi_depth  \\\n",
              "2050    4.545878    131.52276      0.3425        1.7367       44.0   \n",
              "2051    6.189406    134.78672      0.2567        2.2112       47.5   \n",
              "2052    7.743476    135.09376      0.3471        2.7852       51.3   \n",
              "32      5.286954    135.85194      0.4052        2.5910       43.0   \n",
              "2053    9.740484    134.88007      0.0983        1.6909       75.6   \n",
              "\n",
              "         ...      koi_tce_plnt_num  koi_steff  koi_slogg  koi_smet  koi_srad  \\\n",
              "2050     ...                     4     5032.0      4.683     -0.96     0.593   \n",
              "2051     ...                     2     5032.0      4.683     -0.96     0.593   \n",
              "2052     ...                     3     5032.0      4.683     -0.96     0.593   \n",
              "32       ...                     5     4812.0      4.548      0.02     0.755   \n",
              "2053     ...                     1     5032.0      4.683     -0.96     0.593   \n",
              "\n",
              "      koi_smass  koi_sage         ra        dec  koi_kepmag  \n",
              "2050      0.618       NaN  289.75229  41.634605       8.717  \n",
              "2051      0.618       NaN  289.75229  41.634605       8.717  \n",
              "2052      0.618       NaN  289.75229  41.634605       8.717  \n",
              "32        0.734       NaN  281.48273  47.208031      11.492  \n",
              "2053      0.618       NaN  289.75229  41.634605       8.717  \n",
              "\n",
              "[5 rows x 25 columns]"
            ]
          },
          "metadata": {
            "tags": []
          },
          "execution_count": 71
        }
      ]
    },
    {
      "metadata": {
        "id": "FzuBTYU9WPMJ",
        "colab_type": "code",
        "outputId": "ff21f37c-37f0-4050-8bd0-4aeaab646aba",
        "colab": {
          "base_uri": "https://localhost:8080/",
          "height": 408
        }
      },
      "cell_type": "code",
      "source": [
        "largest20.head(10)"
      ],
      "execution_count": 0,
      "outputs": [
        {
          "output_type": "execute_result",
          "data": {
            "text/html": [
              "<div>\n",
              "<style scoped>\n",
              "    .dataframe tbody tr th:only-of-type {\n",
              "        vertical-align: middle;\n",
              "    }\n",
              "\n",
              "    .dataframe tbody tr th {\n",
              "        vertical-align: top;\n",
              "    }\n",
              "\n",
              "    .dataframe thead th {\n",
              "        text-align: right;\n",
              "    }\n",
              "</style>\n",
              "<table border=\"1\" class=\"dataframe\">\n",
              "  <thead>\n",
              "    <tr style=\"text-align: right;\">\n",
              "      <th></th>\n",
              "      <th>loc_rowid</th>\n",
              "      <th>kepid</th>\n",
              "      <th>kepoi_name</th>\n",
              "      <th>kepler_name</th>\n",
              "      <th>koi_disposition</th>\n",
              "      <th>koi_period</th>\n",
              "      <th>koi_time0bk</th>\n",
              "      <th>koi_impact</th>\n",
              "      <th>koi_duration</th>\n",
              "      <th>koi_depth</th>\n",
              "      <th>...</th>\n",
              "      <th>koi_tce_plnt_num</th>\n",
              "      <th>koi_steff</th>\n",
              "      <th>koi_slogg</th>\n",
              "      <th>koi_smet</th>\n",
              "      <th>koi_srad</th>\n",
              "      <th>koi_smass</th>\n",
              "      <th>koi_sage</th>\n",
              "      <th>ra</th>\n",
              "      <th>dec</th>\n",
              "      <th>koi_kepmag</th>\n",
              "    </tr>\n",
              "  </thead>\n",
              "  <tbody>\n",
              "    <tr>\n",
              "      <th>688</th>\n",
              "      <td>1026</td>\n",
              "      <td>11018648</td>\n",
              "      <td>K00759.01</td>\n",
              "      <td>Kepler-230 b</td>\n",
              "      <td>CONFIRMED</td>\n",
              "      <td>32.628830</td>\n",
              "      <td>194.10095</td>\n",
              "      <td>44.5801</td>\n",
              "      <td>6.3644</td>\n",
              "      <td>2071.8</td>\n",
              "      <td>...</td>\n",
              "      <td>1</td>\n",
              "      <td>5588.0</td>\n",
              "      <td>4.563</td>\n",
              "      <td>-0.30</td>\n",
              "      <td>0.796</td>\n",
              "      <td>0.846</td>\n",
              "      <td>NaN</td>\n",
              "      <td>285.71854</td>\n",
              "      <td>48.505859</td>\n",
              "      <td>15.082</td>\n",
              "    </tr>\n",
              "    <tr>\n",
              "      <th>667</th>\n",
              "      <td>994</td>\n",
              "      <td>10358759</td>\n",
              "      <td>K00738.01</td>\n",
              "      <td>Kepler-29 b</td>\n",
              "      <td>CONFIRMED</td>\n",
              "      <td>10.339292</td>\n",
              "      <td>170.38425</td>\n",
              "      <td>30.2064</td>\n",
              "      <td>4.0633</td>\n",
              "      <td>1450.2</td>\n",
              "      <td>...</td>\n",
              "      <td>1</td>\n",
              "      <td>5716.0</td>\n",
              "      <td>4.544</td>\n",
              "      <td>-0.04</td>\n",
              "      <td>0.872</td>\n",
              "      <td>0.970</td>\n",
              "      <td>NaN</td>\n",
              "      <td>298.34833</td>\n",
              "      <td>47.491230</td>\n",
              "      <td>15.282</td>\n",
              "    </tr>\n",
              "    <tr>\n",
              "      <th>668</th>\n",
              "      <td>995</td>\n",
              "      <td>10358759</td>\n",
              "      <td>K00738.02</td>\n",
              "      <td>Kepler-29 c</td>\n",
              "      <td>CONFIRMED</td>\n",
              "      <td>13.286891</td>\n",
              "      <td>172.12004</td>\n",
              "      <td>13.8538</td>\n",
              "      <td>4.3460</td>\n",
              "      <td>1274.9</td>\n",
              "      <td>...</td>\n",
              "      <td>2</td>\n",
              "      <td>5716.0</td>\n",
              "      <td>4.544</td>\n",
              "      <td>-0.04</td>\n",
              "      <td>0.872</td>\n",
              "      <td>0.970</td>\n",
              "      <td>NaN</td>\n",
              "      <td>298.34833</td>\n",
              "      <td>47.491230</td>\n",
              "      <td>15.282</td>\n",
              "    </tr>\n",
              "    <tr>\n",
              "      <th>1225</th>\n",
              "      <td>2059</td>\n",
              "      <td>5474613</td>\n",
              "      <td>K01599.02</td>\n",
              "      <td>Kepler-1659 b</td>\n",
              "      <td>CONFIRMED</td>\n",
              "      <td>13.616346</td>\n",
              "      <td>140.94897</td>\n",
              "      <td>1.5875</td>\n",
              "      <td>4.4130</td>\n",
              "      <td>384.4</td>\n",
              "      <td>...</td>\n",
              "      <td>2</td>\n",
              "      <td>5823.0</td>\n",
              "      <td>4.472</td>\n",
              "      <td>0.06</td>\n",
              "      <td>0.972</td>\n",
              "      <td>1.020</td>\n",
              "      <td>NaN</td>\n",
              "      <td>298.37384</td>\n",
              "      <td>40.618420</td>\n",
              "      <td>14.802</td>\n",
              "    </tr>\n",
              "    <tr>\n",
              "      <th>1023</th>\n",
              "      <td>1647</td>\n",
              "      <td>8564587</td>\n",
              "      <td>K01270.02</td>\n",
              "      <td>Kepler-57 c</td>\n",
              "      <td>CONFIRMED</td>\n",
              "      <td>11.609071</td>\n",
              "      <td>133.99432</td>\n",
              "      <td>1.5079</td>\n",
              "      <td>2.7570</td>\n",
              "      <td>517.6</td>\n",
              "      <td>...</td>\n",
              "      <td>2</td>\n",
              "      <td>5324.0</td>\n",
              "      <td>4.585</td>\n",
              "      <td>-0.04</td>\n",
              "      <td>0.791</td>\n",
              "      <td>0.884</td>\n",
              "      <td>NaN</td>\n",
              "      <td>293.64130</td>\n",
              "      <td>44.657040</td>\n",
              "      <td>14.809</td>\n",
              "    </tr>\n",
              "    <tr>\n",
              "      <th>1036</th>\n",
              "      <td>1679</td>\n",
              "      <td>10604335</td>\n",
              "      <td>K01298.02</td>\n",
              "      <td>Kepler-283 c</td>\n",
              "      <td>CONFIRMED</td>\n",
              "      <td>92.749023</td>\n",
              "      <td>173.28907</td>\n",
              "      <td>1.4541</td>\n",
              "      <td>7.6950</td>\n",
              "      <td>1391.6</td>\n",
              "      <td>...</td>\n",
              "      <td>2</td>\n",
              "      <td>5189.0</td>\n",
              "      <td>4.604</td>\n",
              "      <td>-0.37</td>\n",
              "      <td>0.720</td>\n",
              "      <td>0.760</td>\n",
              "      <td>NaN</td>\n",
              "      <td>293.61371</td>\n",
              "      <td>47.839001</td>\n",
              "      <td>15.847</td>\n",
              "    </tr>\n",
              "    <tr>\n",
              "      <th>278</th>\n",
              "      <td>414</td>\n",
              "      <td>10552611</td>\n",
              "      <td>K00338.01</td>\n",
              "      <td>Kepler-141 c</td>\n",
              "      <td>CONFIRMED</td>\n",
              "      <td>7.010627</td>\n",
              "      <td>174.57560</td>\n",
              "      <td>0.7433</td>\n",
              "      <td>3.1196</td>\n",
              "      <td>348.4</td>\n",
              "      <td>...</td>\n",
              "      <td>1</td>\n",
              "      <td>4173.0</td>\n",
              "      <td>1.857</td>\n",
              "      <td>0.06</td>\n",
              "      <td>18.939</td>\n",
              "      <td>0.941</td>\n",
              "      <td>NaN</td>\n",
              "      <td>297.97089</td>\n",
              "      <td>47.731682</td>\n",
              "      <td>13.448</td>\n",
              "    </tr>\n",
              "    <tr>\n",
              "      <th>1109</th>\n",
              "      <td>1833</td>\n",
              "      <td>11497958</td>\n",
              "      <td>K01422.03</td>\n",
              "      <td>Kepler-296 b</td>\n",
              "      <td>CONFIRMED</td>\n",
              "      <td>10.864432</td>\n",
              "      <td>131.12545</td>\n",
              "      <td>1.8474</td>\n",
              "      <td>2.6960</td>\n",
              "      <td>956.8</td>\n",
              "      <td>...</td>\n",
              "      <td>3</td>\n",
              "      <td>3517.0</td>\n",
              "      <td>4.881</td>\n",
              "      <td>-0.07</td>\n",
              "      <td>0.370</td>\n",
              "      <td>0.380</td>\n",
              "      <td>NaN</td>\n",
              "      <td>286.54001</td>\n",
              "      <td>49.437328</td>\n",
              "      <td>15.921</td>\n",
              "    </tr>\n",
              "    <tr>\n",
              "      <th>657</th>\n",
              "      <td>978</td>\n",
              "      <td>10227020</td>\n",
              "      <td>K00730.03</td>\n",
              "      <td>Kepler-223 e</td>\n",
              "      <td>CONFIRMED</td>\n",
              "      <td>19.724089</td>\n",
              "      <td>135.06934</td>\n",
              "      <td>1.2615</td>\n",
              "      <td>9.2810</td>\n",
              "      <td>657.1</td>\n",
              "      <td>...</td>\n",
              "      <td>2</td>\n",
              "      <td>5825.0</td>\n",
              "      <td>4.390</td>\n",
              "      <td>-0.22</td>\n",
              "      <td>1.003</td>\n",
              "      <td>0.902</td>\n",
              "      <td>NaN</td>\n",
              "      <td>298.31836</td>\n",
              "      <td>47.279491</td>\n",
              "      <td>15.344</td>\n",
              "    </tr>\n",
              "    <tr>\n",
              "      <th>1144</th>\n",
              "      <td>1898</td>\n",
              "      <td>12365184</td>\n",
              "      <td>K01474.01</td>\n",
              "      <td>Kepler-419 b</td>\n",
              "      <td>CONFIRMED</td>\n",
              "      <td>69.726641</td>\n",
              "      <td>196.08773</td>\n",
              "      <td>1.1032</td>\n",
              "      <td>5.4861</td>\n",
              "      <td>4587.9</td>\n",
              "      <td>...</td>\n",
              "      <td>1</td>\n",
              "      <td>6287.0</td>\n",
              "      <td>4.241</td>\n",
              "      <td>0.22</td>\n",
              "      <td>1.423</td>\n",
              "      <td>1.292</td>\n",
              "      <td>NaN</td>\n",
              "      <td>295.41788</td>\n",
              "      <td>51.184761</td>\n",
              "      <td>13.005</td>\n",
              "    </tr>\n",
              "  </tbody>\n",
              "</table>\n",
              "<p>10 rows × 25 columns</p>\n",
              "</div>"
            ],
            "text/plain": [
              "      loc_rowid     kepid kepoi_name    kepler_name koi_disposition  \\\n",
              "688        1026  11018648  K00759.01   Kepler-230 b       CONFIRMED   \n",
              "667         994  10358759  K00738.01    Kepler-29 b       CONFIRMED   \n",
              "668         995  10358759  K00738.02    Kepler-29 c       CONFIRMED   \n",
              "1225       2059   5474613  K01599.02  Kepler-1659 b       CONFIRMED   \n",
              "1023       1647   8564587  K01270.02    Kepler-57 c       CONFIRMED   \n",
              "1036       1679  10604335  K01298.02   Kepler-283 c       CONFIRMED   \n",
              "278         414  10552611  K00338.01   Kepler-141 c       CONFIRMED   \n",
              "1109       1833  11497958  K01422.03   Kepler-296 b       CONFIRMED   \n",
              "657         978  10227020  K00730.03   Kepler-223 e       CONFIRMED   \n",
              "1144       1898  12365184  K01474.01   Kepler-419 b       CONFIRMED   \n",
              "\n",
              "      koi_period  koi_time0bk  koi_impact  koi_duration  koi_depth  \\\n",
              "688    32.628830    194.10095     44.5801        6.3644     2071.8   \n",
              "667    10.339292    170.38425     30.2064        4.0633     1450.2   \n",
              "668    13.286891    172.12004     13.8538        4.3460     1274.9   \n",
              "1225   13.616346    140.94897      1.5875        4.4130      384.4   \n",
              "1023   11.609071    133.99432      1.5079        2.7570      517.6   \n",
              "1036   92.749023    173.28907      1.4541        7.6950     1391.6   \n",
              "278     7.010627    174.57560      0.7433        3.1196      348.4   \n",
              "1109   10.864432    131.12545      1.8474        2.6960      956.8   \n",
              "657    19.724089    135.06934      1.2615        9.2810      657.1   \n",
              "1144   69.726641    196.08773      1.1032        5.4861     4587.9   \n",
              "\n",
              "         ...      koi_tce_plnt_num  koi_steff  koi_slogg  koi_smet  koi_srad  \\\n",
              "688      ...                     1     5588.0      4.563     -0.30     0.796   \n",
              "667      ...                     1     5716.0      4.544     -0.04     0.872   \n",
              "668      ...                     2     5716.0      4.544     -0.04     0.872   \n",
              "1225     ...                     2     5823.0      4.472      0.06     0.972   \n",
              "1023     ...                     2     5324.0      4.585     -0.04     0.791   \n",
              "1036     ...                     2     5189.0      4.604     -0.37     0.720   \n",
              "278      ...                     1     4173.0      1.857      0.06    18.939   \n",
              "1109     ...                     3     3517.0      4.881     -0.07     0.370   \n",
              "657      ...                     2     5825.0      4.390     -0.22     1.003   \n",
              "1144     ...                     1     6287.0      4.241      0.22     1.423   \n",
              "\n",
              "      koi_smass  koi_sage         ra        dec  koi_kepmag  \n",
              "688       0.846       NaN  285.71854  48.505859      15.082  \n",
              "667       0.970       NaN  298.34833  47.491230      15.282  \n",
              "668       0.970       NaN  298.34833  47.491230      15.282  \n",
              "1225      1.020       NaN  298.37384  40.618420      14.802  \n",
              "1023      0.884       NaN  293.64130  44.657040      14.809  \n",
              "1036      0.760       NaN  293.61371  47.839001      15.847  \n",
              "278       0.941       NaN  297.97089  47.731682      13.448  \n",
              "1109      0.380       NaN  286.54001  49.437328      15.921  \n",
              "657       0.902       NaN  298.31836  47.279491      15.344  \n",
              "1144      1.292       NaN  295.41788  51.184761      13.005  \n",
              "\n",
              "[10 rows x 25 columns]"
            ]
          },
          "metadata": {
            "tags": []
          },
          "execution_count": 73
        }
      ]
    },
    {
      "metadata": {
        "id": "G2i1UtrsMpKt",
        "colab_type": "code",
        "colab": {}
      },
      "cell_type": "code",
      "source": [
        "big_planet_kid = 11018648\t\n",
        "little_planet_kid = 6278762"
      ],
      "execution_count": 0,
      "outputs": []
    },
    {
      "metadata": {
        "id": "_Gm0rHuoMy_5",
        "colab_type": "code",
        "outputId": "88196b96-1a68-4e8a-b71b-2edb2a021ea8",
        "colab": {
          "base_uri": "https://localhost:8080/",
          "height": 284
        }
      },
      "cell_type": "code",
      "source": [
        "big_lil = planets_conf.loc[(planets_conf['kepid'] == big_planet_kid) |\n",
        "                (planets_conf['kepid'] == little_planet_kid)]\n",
        "\n",
        "big_lil"
      ],
      "execution_count": 0,
      "outputs": [
        {
          "output_type": "execute_result",
          "data": {
            "text/html": [
              "<div>\n",
              "<style scoped>\n",
              "    .dataframe tbody tr th:only-of-type {\n",
              "        vertical-align: middle;\n",
              "    }\n",
              "\n",
              "    .dataframe tbody tr th {\n",
              "        vertical-align: top;\n",
              "    }\n",
              "\n",
              "    .dataframe thead th {\n",
              "        text-align: right;\n",
              "    }\n",
              "</style>\n",
              "<table border=\"1\" class=\"dataframe\">\n",
              "  <thead>\n",
              "    <tr style=\"text-align: right;\">\n",
              "      <th></th>\n",
              "      <th>loc_rowid</th>\n",
              "      <th>kepid</th>\n",
              "      <th>kepoi_name</th>\n",
              "      <th>kepler_name</th>\n",
              "      <th>koi_disposition</th>\n",
              "      <th>koi_period</th>\n",
              "      <th>koi_time0bk</th>\n",
              "      <th>koi_impact</th>\n",
              "      <th>koi_duration</th>\n",
              "      <th>koi_depth</th>\n",
              "      <th>...</th>\n",
              "      <th>koi_tce_plnt_num</th>\n",
              "      <th>koi_steff</th>\n",
              "      <th>koi_slogg</th>\n",
              "      <th>koi_smet</th>\n",
              "      <th>koi_srad</th>\n",
              "      <th>koi_smass</th>\n",
              "      <th>koi_sage</th>\n",
              "      <th>ra</th>\n",
              "      <th>dec</th>\n",
              "      <th>koi_kepmag</th>\n",
              "    </tr>\n",
              "  </thead>\n",
              "  <tbody>\n",
              "    <tr>\n",
              "      <th>688</th>\n",
              "      <td>1026</td>\n",
              "      <td>11018648</td>\n",
              "      <td>K00759.01</td>\n",
              "      <td>Kepler-230 b</td>\n",
              "      <td>CONFIRMED</td>\n",
              "      <td>32.628830</td>\n",
              "      <td>194.10095</td>\n",
              "      <td>44.5801</td>\n",
              "      <td>6.3644</td>\n",
              "      <td>2071.8</td>\n",
              "      <td>...</td>\n",
              "      <td>1</td>\n",
              "      <td>5588.0</td>\n",
              "      <td>4.563</td>\n",
              "      <td>-0.30</td>\n",
              "      <td>0.796</td>\n",
              "      <td>0.846</td>\n",
              "      <td>NaN</td>\n",
              "      <td>285.71854</td>\n",
              "      <td>48.505859</td>\n",
              "      <td>15.082</td>\n",
              "    </tr>\n",
              "    <tr>\n",
              "      <th>689</th>\n",
              "      <td>1027</td>\n",
              "      <td>11018648</td>\n",
              "      <td>K00759.02</td>\n",
              "      <td>Kepler-230 c</td>\n",
              "      <td>CONFIRMED</td>\n",
              "      <td>91.772210</td>\n",
              "      <td>193.84849</td>\n",
              "      <td>0.3482</td>\n",
              "      <td>6.3630</td>\n",
              "      <td>713.1</td>\n",
              "      <td>...</td>\n",
              "      <td>2</td>\n",
              "      <td>5588.0</td>\n",
              "      <td>4.563</td>\n",
              "      <td>-0.30</td>\n",
              "      <td>0.796</td>\n",
              "      <td>0.846</td>\n",
              "      <td>NaN</td>\n",
              "      <td>285.71854</td>\n",
              "      <td>48.505859</td>\n",
              "      <td>15.082</td>\n",
              "    </tr>\n",
              "    <tr>\n",
              "      <th>2050</th>\n",
              "      <td>3882</td>\n",
              "      <td>6278762</td>\n",
              "      <td>K03158.02</td>\n",
              "      <td>Kepler-444 c</td>\n",
              "      <td>CONFIRMED</td>\n",
              "      <td>4.545878</td>\n",
              "      <td>131.52276</td>\n",
              "      <td>0.3425</td>\n",
              "      <td>1.7367</td>\n",
              "      <td>44.0</td>\n",
              "      <td>...</td>\n",
              "      <td>4</td>\n",
              "      <td>5032.0</td>\n",
              "      <td>4.683</td>\n",
              "      <td>-0.96</td>\n",
              "      <td>0.593</td>\n",
              "      <td>0.618</td>\n",
              "      <td>NaN</td>\n",
              "      <td>289.75229</td>\n",
              "      <td>41.634605</td>\n",
              "      <td>8.717</td>\n",
              "    </tr>\n",
              "    <tr>\n",
              "      <th>2051</th>\n",
              "      <td>3883</td>\n",
              "      <td>6278762</td>\n",
              "      <td>K03158.03</td>\n",
              "      <td>Kepler-444 d</td>\n",
              "      <td>CONFIRMED</td>\n",
              "      <td>6.189406</td>\n",
              "      <td>134.78672</td>\n",
              "      <td>0.2567</td>\n",
              "      <td>2.2112</td>\n",
              "      <td>47.5</td>\n",
              "      <td>...</td>\n",
              "      <td>2</td>\n",
              "      <td>5032.0</td>\n",
              "      <td>4.683</td>\n",
              "      <td>-0.96</td>\n",
              "      <td>0.593</td>\n",
              "      <td>0.618</td>\n",
              "      <td>NaN</td>\n",
              "      <td>289.75229</td>\n",
              "      <td>41.634605</td>\n",
              "      <td>8.717</td>\n",
              "    </tr>\n",
              "    <tr>\n",
              "      <th>2052</th>\n",
              "      <td>3884</td>\n",
              "      <td>6278762</td>\n",
              "      <td>K03158.04</td>\n",
              "      <td>Kepler-444 e</td>\n",
              "      <td>CONFIRMED</td>\n",
              "      <td>7.743476</td>\n",
              "      <td>135.09376</td>\n",
              "      <td>0.3471</td>\n",
              "      <td>2.7852</td>\n",
              "      <td>51.3</td>\n",
              "      <td>...</td>\n",
              "      <td>3</td>\n",
              "      <td>5032.0</td>\n",
              "      <td>4.683</td>\n",
              "      <td>-0.96</td>\n",
              "      <td>0.593</td>\n",
              "      <td>0.618</td>\n",
              "      <td>NaN</td>\n",
              "      <td>289.75229</td>\n",
              "      <td>41.634605</td>\n",
              "      <td>8.717</td>\n",
              "    </tr>\n",
              "    <tr>\n",
              "      <th>2053</th>\n",
              "      <td>3885</td>\n",
              "      <td>6278762</td>\n",
              "      <td>K03158.05</td>\n",
              "      <td>Kepler-444 f</td>\n",
              "      <td>CONFIRMED</td>\n",
              "      <td>9.740484</td>\n",
              "      <td>134.88007</td>\n",
              "      <td>0.0983</td>\n",
              "      <td>1.6909</td>\n",
              "      <td>75.6</td>\n",
              "      <td>...</td>\n",
              "      <td>1</td>\n",
              "      <td>5032.0</td>\n",
              "      <td>4.683</td>\n",
              "      <td>-0.96</td>\n",
              "      <td>0.593</td>\n",
              "      <td>0.618</td>\n",
              "      <td>NaN</td>\n",
              "      <td>289.75229</td>\n",
              "      <td>41.634605</td>\n",
              "      <td>8.717</td>\n",
              "    </tr>\n",
              "  </tbody>\n",
              "</table>\n",
              "<p>6 rows × 25 columns</p>\n",
              "</div>"
            ],
            "text/plain": [
              "      loc_rowid     kepid kepoi_name   kepler_name koi_disposition  \\\n",
              "688        1026  11018648  K00759.01  Kepler-230 b       CONFIRMED   \n",
              "689        1027  11018648  K00759.02  Kepler-230 c       CONFIRMED   \n",
              "2050       3882   6278762  K03158.02  Kepler-444 c       CONFIRMED   \n",
              "2051       3883   6278762  K03158.03  Kepler-444 d       CONFIRMED   \n",
              "2052       3884   6278762  K03158.04  Kepler-444 e       CONFIRMED   \n",
              "2053       3885   6278762  K03158.05  Kepler-444 f       CONFIRMED   \n",
              "\n",
              "      koi_period  koi_time0bk  koi_impact  koi_duration  koi_depth  \\\n",
              "688    32.628830    194.10095     44.5801        6.3644     2071.8   \n",
              "689    91.772210    193.84849      0.3482        6.3630      713.1   \n",
              "2050    4.545878    131.52276      0.3425        1.7367       44.0   \n",
              "2051    6.189406    134.78672      0.2567        2.2112       47.5   \n",
              "2052    7.743476    135.09376      0.3471        2.7852       51.3   \n",
              "2053    9.740484    134.88007      0.0983        1.6909       75.6   \n",
              "\n",
              "         ...      koi_tce_plnt_num  koi_steff  koi_slogg  koi_smet  koi_srad  \\\n",
              "688      ...                     1     5588.0      4.563     -0.30     0.796   \n",
              "689      ...                     2     5588.0      4.563     -0.30     0.796   \n",
              "2050     ...                     4     5032.0      4.683     -0.96     0.593   \n",
              "2051     ...                     2     5032.0      4.683     -0.96     0.593   \n",
              "2052     ...                     3     5032.0      4.683     -0.96     0.593   \n",
              "2053     ...                     1     5032.0      4.683     -0.96     0.593   \n",
              "\n",
              "      koi_smass  koi_sage         ra        dec  koi_kepmag  \n",
              "688       0.846       NaN  285.71854  48.505859      15.082  \n",
              "689       0.846       NaN  285.71854  48.505859      15.082  \n",
              "2050      0.618       NaN  289.75229  41.634605       8.717  \n",
              "2051      0.618       NaN  289.75229  41.634605       8.717  \n",
              "2052      0.618       NaN  289.75229  41.634605       8.717  \n",
              "2053      0.618       NaN  289.75229  41.634605       8.717  \n",
              "\n",
              "[6 rows x 25 columns]"
            ]
          },
          "metadata": {
            "tags": []
          },
          "execution_count": 70
        }
      ]
    },
    {
      "metadata": {
        "id": "7OdN8CTcWRP5",
        "colab_type": "code",
        "outputId": "be4c5aca-c552-4310-f990-9086919e05f6",
        "colab": {
          "base_uri": "https://localhost:8080/",
          "height": 85
        }
      },
      "cell_type": "code",
      "source": [
        "url = lc_url_file.loc[lc_url_file['kepid'] == 11018648]['lc_url'].values\n",
        "url"
      ],
      "execution_count": 0,
      "outputs": [
        {
          "output_type": "execute_result",
          "data": {
            "text/plain": [
              "array([\"'http://exoplanetarchive.ipac.caltech.edu:80/data/ETSS//Kepler/005/709/43/kplr011018648-2013131215648_llc_lc.tbl'\",\n",
              "       \"'http://exoplanetarchive.ipac.caltech.edu:80/data/ETSS//Kepler/005/757/63/kplr011018648-2013121191144_slc_lc.tbl'\",\n",
              "       \"'http://exoplanetarchive.ipac.caltech.edu:80/data/ETSS//Kepler/005/757/63/kplr011018648-2013131215648_slc_lc.tbl'\"],\n",
              "      dtype=object)"
            ]
          },
          "metadata": {
            "tags": []
          },
          "execution_count": 59
        }
      ]
    },
    {
      "metadata": {
        "id": "9y-c_u0Pab4J",
        "colab_type": "code",
        "outputId": "70e0042d-b620-4db6-9ccf-3c3033685fda",
        "colab": {
          "base_uri": "https://localhost:8080/",
          "height": 292
        }
      },
      "cell_type": "code",
      "source": [
        "!wget 'http://exoplanetarchive.ipac.caltech.edu:80/data/ETSS//Kepler/005/700/02/kplr006278762-2013131215648_llc_lc.tbl'"
      ],
      "execution_count": 0,
      "outputs": [
        {
          "output_type": "stream",
          "text": [
            "--2019-04-17 20:19:51--  http://exoplanetarchive.ipac.caltech.edu/data/ETSS//Kepler/005/700/02/kplr006278762-2013131215648_llc_lc.tbl\n",
            "Resolving exoplanetarchive.ipac.caltech.edu (exoplanetarchive.ipac.caltech.edu)... 134.4.54.147\n",
            "Connecting to exoplanetarchive.ipac.caltech.edu (exoplanetarchive.ipac.caltech.edu)|134.4.54.147|:80... connected.\n",
            "HTTP request sent, awaiting response... 302 Found\n",
            "Location: https://exoplanetarchive.ipac.caltech.edu/data/ETSS//Kepler/005/700/02/kplr006278762-2013131215648_llc_lc.tbl [following]\n",
            "--2019-04-17 20:19:51--  https://exoplanetarchive.ipac.caltech.edu/data/ETSS//Kepler/005/700/02/kplr006278762-2013131215648_llc_lc.tbl\n",
            "Connecting to exoplanetarchive.ipac.caltech.edu (exoplanetarchive.ipac.caltech.edu)|134.4.54.147|:443... connected.\n",
            "HTTP request sent, awaiting response... 200 OK\n",
            "Length: 506572 (495K) [text/plain]\n",
            "Saving to: ‘kplr006278762-2013131215648_llc_lc.tbl’\n",
            "\n",
            "kplr006278762-20131 100%[===================>] 494.70K  1.03MB/s    in 0.5s    \n",
            "\n",
            "2019-04-17 20:19:52 (1.03 MB/s) - ‘kplr006278762-2013131215648_llc_lc.tbl’ saved [506572/506572]\n",
            "\n"
          ],
          "name": "stdout"
        }
      ]
    },
    {
      "metadata": {
        "id": "VCfT8juzLjd7",
        "colab_type": "code",
        "outputId": "6e976573-e1da-4d69-96bb-bddc3bfce64d",
        "colab": {
          "base_uri": "https://localhost:8080/",
          "height": 292
        }
      },
      "cell_type": "code",
      "source": [
        "!wget 'http://exoplanetarchive.ipac.caltech.edu:80/data/ETSS//Kepler/005/709/43/kplr011018648-2013131215648_llc_lc.tbl'\n"
      ],
      "execution_count": 0,
      "outputs": [
        {
          "output_type": "stream",
          "text": [
            "--2019-04-17 21:24:24--  http://exoplanetarchive.ipac.caltech.edu/data/ETSS//Kepler/005/709/43/kplr011018648-2013131215648_llc_lc.tbl\n",
            "Resolving exoplanetarchive.ipac.caltech.edu (exoplanetarchive.ipac.caltech.edu)... 134.4.54.147\n",
            "Connecting to exoplanetarchive.ipac.caltech.edu (exoplanetarchive.ipac.caltech.edu)|134.4.54.147|:80... connected.\n",
            "HTTP request sent, awaiting response... 302 Found\n",
            "Location: https://exoplanetarchive.ipac.caltech.edu/data/ETSS//Kepler/005/709/43/kplr011018648-2013131215648_llc_lc.tbl [following]\n",
            "--2019-04-17 21:24:25--  https://exoplanetarchive.ipac.caltech.edu/data/ETSS//Kepler/005/709/43/kplr011018648-2013131215648_llc_lc.tbl\n",
            "Connecting to exoplanetarchive.ipac.caltech.edu (exoplanetarchive.ipac.caltech.edu)|134.4.54.147|:443... connected.\n",
            "HTTP request sent, awaiting response... 200 OK\n",
            "Length: 506684 (495K) [text/plain]\n",
            "Saving to: ‘kplr011018648-2013131215648_llc_lc.tbl’\n",
            "\n",
            "kplr011018648-20131 100%[===================>] 494.81K   930KB/s    in 0.5s    \n",
            "\n",
            "2019-04-17 21:24:25 (930 KB/s) - ‘kplr011018648-2013131215648_llc_lc.tbl’ saved [506684/506684]\n",
            "\n"
          ],
          "name": "stdout"
        }
      ]
    },
    {
      "metadata": {
        "id": "mKCUNZkQVGQX",
        "colab_type": "code",
        "outputId": "1bce411c-aa9e-4913-8315-8d62aa150d4a",
        "colab": {
          "base_uri": "https://localhost:8080/",
          "height": 68
        }
      },
      "cell_type": "code",
      "source": [
        "url_big_conf = url_conf.loc[url_conf['kepid'] == little_planet_kid]['lc_url'].values\n",
        "url_big_conf\n"
      ],
      "execution_count": 0,
      "outputs": [
        {
          "output_type": "execute_result",
          "data": {
            "text/plain": [
              "array([\"'http://exoplanetarchive.ipac.caltech.edu:80/data/ETSS//Kepler/005/695/34/kplr002439080-2013131215648_llc_lc.tbl'\",\n",
              "       \"'http://exoplanetarchive.ipac.caltech.edu:80/data/ETSS//Kepler/005/695/34/kplr002439083-2013131215648_llc_lc.tbl'\"],\n",
              "      dtype=object)"
            ]
          },
          "metadata": {
            "tags": []
          },
          "execution_count": 116
        }
      ]
    },
    {
      "metadata": {
        "id": "ZbrvgU6CLtQb",
        "colab_type": "code",
        "colab": {}
      },
      "cell_type": "code",
      "source": [
        "big_planet = pd.read_csv('kplr011018648-2013131215648_llc_lc.tbl', comment=\"\\\\\",sep='\\s\\s+', skip_blank_lines=True, header=4, engine='python')"
      ],
      "execution_count": 0,
      "outputs": []
    },
    {
      "metadata": {
        "id": "WQ6VfKfRXftj",
        "colab_type": "code",
        "colab": {}
      },
      "cell_type": "code",
      "source": [
        "lc6278762 = pd.read_csv(\"kplr006278762-2013131215648_llc_lc.tbl\", comment=\"\\\\\",sep='\\s\\s+', skip_blank_lines=True, header=4, engine='python')"
      ],
      "execution_count": 0,
      "outputs": []
    },
    {
      "metadata": {
        "id": "9gjGES5tYknD",
        "colab_type": "code",
        "outputId": "c796c69b-28ce-46d7-eaa8-da8a9810a1f2",
        "colab": {
          "base_uri": "https://localhost:8080/",
          "height": 34
        }
      },
      "cell_type": "code",
      "source": [
        "lc6278762.shape, big_planet.shape"
      ],
      "execution_count": 0,
      "outputs": [
        {
          "output_type": "execute_result",
          "data": {
            "text/plain": [
              "((1555, 21), (1555, 21))"
            ]
          },
          "metadata": {
            "tags": []
          },
          "execution_count": 63
        }
      ]
    },
    {
      "metadata": {
        "id": "YVURpq1rDKgG",
        "colab_type": "code",
        "outputId": "2f13e956-f7a6-4b38-83ec-d38b4d999a92",
        "colab": {
          "base_uri": "https://localhost:8080/",
          "height": 253
        }
      },
      "cell_type": "code",
      "source": [
        "lc6278762.head()"
      ],
      "execution_count": 0,
      "outputs": [
        {
          "output_type": "execute_result",
          "data": {
            "text/html": [
              "<div>\n",
              "<style scoped>\n",
              "    .dataframe tbody tr th:only-of-type {\n",
              "        vertical-align: middle;\n",
              "    }\n",
              "\n",
              "    .dataframe tbody tr th {\n",
              "        vertical-align: top;\n",
              "    }\n",
              "\n",
              "    .dataframe thead th {\n",
              "        text-align: right;\n",
              "    }\n",
              "</style>\n",
              "<table border=\"1\" class=\"dataframe\">\n",
              "  <thead>\n",
              "    <tr style=\"text-align: right;\">\n",
              "      <th></th>\n",
              "      <th>time</th>\n",
              "      <th>time_bjd</th>\n",
              "      <th>timecorr</th>\n",
              "      <th>cadenceno</th>\n",
              "      <th>sap_flus</th>\n",
              "      <th>sap_flux_err</th>\n",
              "      <th>sap_bkg</th>\n",
              "      <th>sap_bkg_err</th>\n",
              "      <th>pdscap_flux</th>\n",
              "      <th>pdscap_flux_err</th>\n",
              "      <th>...</th>\n",
              "      <th>psf_centr1</th>\n",
              "      <th>psf_centr1_err</th>\n",
              "      <th>psf_centr2</th>\n",
              "      <th>psf_centr2_err</th>\n",
              "      <th>mom_centr</th>\n",
              "      <th>mom_centr1_err</th>\n",
              "      <th>mom_centr2</th>\n",
              "      <th>mom_centr2_err</th>\n",
              "      <th>pos_corr1</th>\n",
              "      <th>pos_corr2</th>\n",
              "    </tr>\n",
              "  </thead>\n",
              "  <tbody>\n",
              "    <tr>\n",
              "      <th>0</th>\n",
              "      <td>1559.246454</td>\n",
              "      <td>2.456392e+06</td>\n",
              "      <td>-0.000884</td>\n",
              "      <td>70977</td>\n",
              "      <td>3134486.8</td>\n",
              "      <td>43.944054</td>\n",
              "      <td>8481.6729</td>\n",
              "      <td>2.441699</td>\n",
              "      <td>3158212.5</td>\n",
              "      <td>44.943222</td>\n",
              "      <td>...</td>\n",
              "      <td>NaN</td>\n",
              "      <td>NaN</td>\n",
              "      <td>NaN</td>\n",
              "      <td>NaN</td>\n",
              "      <td>458.20020</td>\n",
              "      <td>0.000007</td>\n",
              "      <td>333.35522</td>\n",
              "      <td>0.000055</td>\n",
              "      <td>0.015367</td>\n",
              "      <td>0.012739</td>\n",
              "    </tr>\n",
              "    <tr>\n",
              "      <th>1</th>\n",
              "      <td>1559.266888</td>\n",
              "      <td>2.456392e+06</td>\n",
              "      <td>-0.000883</td>\n",
              "      <td>70978</td>\n",
              "      <td>3134538.0</td>\n",
              "      <td>43.944431</td>\n",
              "      <td>8484.2148</td>\n",
              "      <td>2.442855</td>\n",
              "      <td>3158136.2</td>\n",
              "      <td>44.983459</td>\n",
              "      <td>...</td>\n",
              "      <td>NaN</td>\n",
              "      <td>NaN</td>\n",
              "      <td>NaN</td>\n",
              "      <td>NaN</td>\n",
              "      <td>458.20012</td>\n",
              "      <td>0.000007</td>\n",
              "      <td>333.35534</td>\n",
              "      <td>0.000055</td>\n",
              "      <td>0.015309</td>\n",
              "      <td>0.012737</td>\n",
              "    </tr>\n",
              "    <tr>\n",
              "      <th>2</th>\n",
              "      <td>1559.287323</td>\n",
              "      <td>2.456392e+06</td>\n",
              "      <td>-0.000882</td>\n",
              "      <td>70979</td>\n",
              "      <td>3134819.8</td>\n",
              "      <td>43.946136</td>\n",
              "      <td>8476.4941</td>\n",
              "      <td>2.441181</td>\n",
              "      <td>3158506.5</td>\n",
              "      <td>44.946186</td>\n",
              "      <td>...</td>\n",
              "      <td>NaN</td>\n",
              "      <td>NaN</td>\n",
              "      <td>NaN</td>\n",
              "      <td>NaN</td>\n",
              "      <td>458.20021</td>\n",
              "      <td>0.000007</td>\n",
              "      <td>333.35538</td>\n",
              "      <td>0.000055</td>\n",
              "      <td>0.015415</td>\n",
              "      <td>0.012660</td>\n",
              "    </tr>\n",
              "    <tr>\n",
              "      <th>3</th>\n",
              "      <td>1559.307757</td>\n",
              "      <td>2.456392e+06</td>\n",
              "      <td>-0.000882</td>\n",
              "      <td>70980</td>\n",
              "      <td>3134479.8</td>\n",
              "      <td>43.944012</td>\n",
              "      <td>8480.2920</td>\n",
              "      <td>2.444093</td>\n",
              "      <td>3158261.0</td>\n",
              "      <td>44.949059</td>\n",
              "      <td>...</td>\n",
              "      <td>NaN</td>\n",
              "      <td>NaN</td>\n",
              "      <td>NaN</td>\n",
              "      <td>NaN</td>\n",
              "      <td>458.20009</td>\n",
              "      <td>0.000007</td>\n",
              "      <td>333.35518</td>\n",
              "      <td>0.000055</td>\n",
              "      <td>0.015242</td>\n",
              "      <td>0.012649</td>\n",
              "    </tr>\n",
              "    <tr>\n",
              "      <th>4</th>\n",
              "      <td>1559.328191</td>\n",
              "      <td>2.456392e+06</td>\n",
              "      <td>-0.000881</td>\n",
              "      <td>70981</td>\n",
              "      <td>3134547.8</td>\n",
              "      <td>43.943645</td>\n",
              "      <td>8474.6348</td>\n",
              "      <td>2.440509</td>\n",
              "      <td>3158423.0</td>\n",
              "      <td>45.010651</td>\n",
              "      <td>...</td>\n",
              "      <td>NaN</td>\n",
              "      <td>NaN</td>\n",
              "      <td>NaN</td>\n",
              "      <td>NaN</td>\n",
              "      <td>458.19999</td>\n",
              "      <td>0.000007</td>\n",
              "      <td>333.35508</td>\n",
              "      <td>0.000055</td>\n",
              "      <td>0.015115</td>\n",
              "      <td>0.012515</td>\n",
              "    </tr>\n",
              "  </tbody>\n",
              "</table>\n",
              "<p>5 rows × 21 columns</p>\n",
              "</div>"
            ],
            "text/plain": [
              "          time      time_bjd  timecorr  cadenceno   sap_flus  sap_flux_err  \\\n",
              "0  1559.246454  2.456392e+06 -0.000884      70977  3134486.8     43.944054   \n",
              "1  1559.266888  2.456392e+06 -0.000883      70978  3134538.0     43.944431   \n",
              "2  1559.287323  2.456392e+06 -0.000882      70979  3134819.8     43.946136   \n",
              "3  1559.307757  2.456392e+06 -0.000882      70980  3134479.8     43.944012   \n",
              "4  1559.328191  2.456392e+06 -0.000881      70981  3134547.8     43.943645   \n",
              "\n",
              "     sap_bkg  sap_bkg_err  pdscap_flux  pdscap_flux_err    ...      \\\n",
              "0  8481.6729     2.441699    3158212.5        44.943222    ...       \n",
              "1  8484.2148     2.442855    3158136.2        44.983459    ...       \n",
              "2  8476.4941     2.441181    3158506.5        44.946186    ...       \n",
              "3  8480.2920     2.444093    3158261.0        44.949059    ...       \n",
              "4  8474.6348     2.440509    3158423.0        45.010651    ...       \n",
              "\n",
              "   psf_centr1  psf_centr1_err  psf_centr2  psf_centr2_err  mom_centr  \\\n",
              "0         NaN             NaN         NaN             NaN  458.20020   \n",
              "1         NaN             NaN         NaN             NaN  458.20012   \n",
              "2         NaN             NaN         NaN             NaN  458.20021   \n",
              "3         NaN             NaN         NaN             NaN  458.20009   \n",
              "4         NaN             NaN         NaN             NaN  458.19999   \n",
              "\n",
              "   mom_centr1_err  mom_centr2  mom_centr2_err  pos_corr1  pos_corr2  \n",
              "0        0.000007   333.35522        0.000055   0.015367   0.012739  \n",
              "1        0.000007   333.35534        0.000055   0.015309   0.012737  \n",
              "2        0.000007   333.35538        0.000055   0.015415   0.012660  \n",
              "3        0.000007   333.35518        0.000055   0.015242   0.012649  \n",
              "4        0.000007   333.35508        0.000055   0.015115   0.012515  \n",
              "\n",
              "[5 rows x 21 columns]"
            ]
          },
          "metadata": {
            "tags": []
          },
          "execution_count": 55
        }
      ]
    },
    {
      "metadata": {
        "id": "EKMzm7DZF_5N",
        "colab_type": "code",
        "colab": {}
      },
      "cell_type": "code",
      "source": [
        ""
      ],
      "execution_count": 0,
      "outputs": []
    },
    {
      "metadata": {
        "id": "Gzt1gizNESl-",
        "colab_type": "code",
        "colab": {}
      },
      "cell_type": "code",
      "source": [
        "lc6278762.columns = ['time', 'time_bjd', 'timecorr', 'cadenceno','sap_flus','sap_flux_err','sap_bkg','sap_bkg_err','pdscap_flux','pdscap_flux_err','sap_quality','psf_centr1',\n",
        "                    'psf_centr1_err', 'psf_centr2','psf_centr2_err','mom_centr','mom_centr1_err','mom_centr2','mom_centr2_err','pos_corr1','pos_corr2']\n",
        "big_planet.columns = ['time', 'time_bjd', 'timecorr', 'cadenceno','sap_flus','sap_flux_err','sap_bkg','sap_bkg_err','pdscap_flux','pdscap_flux_err','sap_quality','psf_centr1',\n",
        "                    'psf_centr1_err', 'psf_centr2','psf_centr2_err','mom_centr','mom_centr1_err','mom_centr2','mom_centr2_err','pos_corr1','pos_corr2']"
      ],
      "execution_count": 0,
      "outputs": []
    },
    {
      "metadata": {
        "id": "ZcOb_QQBbrd6",
        "colab_type": "code",
        "colab": {}
      },
      "cell_type": "code",
      "source": [
        "planet_size_bins = pd.cut(planets_conf['koi_prad'], bins=50)"
      ],
      "execution_count": 0,
      "outputs": []
    },
    {
      "metadata": {
        "id": "47dH330fdGOI",
        "colab_type": "code",
        "outputId": "029fabee-a410-4789-f556-d0618b3ca0d8",
        "colab": {
          "base_uri": "https://localhost:8080/",
          "height": 269
        }
      },
      "cell_type": "code",
      "source": [
        "plt.hist((planets_conf.loc[planets_conf['koi_prad'] <= 20]['koi_prad']), bins=50); "
      ],
      "execution_count": 0,
      "outputs": [
        {
          "output_type": "display_data",
          "data": {
            "image/png": "[encoded data removed]",
            "text/plain": [
              "<Figure size 432x288 with 1 Axes>"
            ]
          },
          "metadata": {
            "tags": []
          }
        }
      ]
    },
    {
      "metadata": {
        "id": "pd22AxmqdKg5",
        "colab_type": "code",
        "outputId": "67f59677-674e-4620-c517-c7e466bf7e97",
        "colab": {
          "base_uri": "https://localhost:8080/",
          "height": 269
        }
      },
      "cell_type": "code",
      "source": [
        "fig, ax = plt.subplots(1,6, figsize=(30,8))\n",
        "fig.subplots_adjust(hspace=1, wspace=-.03)\n",
        "\n",
        "plt.scatter((planets_conf.loc[planets_conf['koi_prad'] <= 20]['koi_prad']),planets_conf.loc[planets_conf['koi_prad'] <= 20]['koi_smass']);"
      ],
      "execution_count": 0,
      "outputs": [
        {
          "output_type": "display_data",
          "data": {
            "image/png": "[encoded data removed]",
            "text/plain": [
              "<Figure size 432x288 with 1 Axes>"
            ]
          },
          "metadata": {
            "tags": []
          }
        }
      ]
    },
    {
      "metadata": {
        "id": "UUbxaoVSfKCw",
        "colab_type": "code",
        "outputId": "90000b6d-3612-4c39-e6cb-be60bc737410",
        "colab": {
          "base_uri": "https://localhost:8080/",
          "height": 298
        }
      },
      "cell_type": "code",
      "source": [
        "plt.scatter(lc6278762['time'], lc6278762['pdscap_flux'])\n",
        "plt.title('Little Planets')\n"
      ],
      "execution_count": 0,
      "outputs": [
        {
          "output_type": "execute_result",
          "data": {
            "text/plain": [
              "Text(0.5, 1.0, 'Little Planets')"
            ]
          },
          "metadata": {
            "tags": []
          },
          "execution_count": 126
        },
        {
          "output_type": "display_data",
          "data": {
            "image/png": "[encoded data removed]",
            "text/plain": [
              "<Figure size 432x288 with 1 Axes>"
            ]
          },
          "metadata": {
            "tags": []
          }
        }
      ]
    },
    {
      "metadata": {
        "id": "ZbVwajDOejBL",
        "colab_type": "code",
        "outputId": "2b42c941-0b7f-4312-c2c9-100bd382c715",
        "colab": {
          "base_uri": "https://localhost:8080/",
          "height": 298
        }
      },
      "cell_type": "code",
      "source": [
        "plt.scatter(big_planet['time'], big_planet['pdscap_flux'])\n",
        "plt.title('Big Planet')\n"
      ],
      "execution_count": 0,
      "outputs": [
        {
          "output_type": "execute_result",
          "data": {
            "text/plain": [
              "Text(0.5, 1.0, 'a')"
            ]
          },
          "metadata": {
            "tags": []
          },
          "execution_count": 125
        },
        {
          "output_type": "display_data",
          "data": {
            "image/png": "[encoded data removed]",
            "text/plain": [
              "<Figure size 432x288 with 1 Axes>"
            ]
          },
          "metadata": {
            "tags": []
          }
        }
      ]
    },
    {
      "metadata": {
        "id": "sGh0l3W5MgcX",
        "colab_type": "code",
        "outputId": "f509c305-0b07-40d3-a460-9245ac567301",
        "colab": {
          "base_uri": "https://localhost:8080/",
          "height": 163
        }
      },
      "cell_type": "code",
      "source": [
        "big_lil[['kepid','kepler_name','koi_srad','koi_prad']]"
      ],
      "execution_count": 0,
      "outputs": [
        {
          "output_type": "error",
          "ename": "NameError",
          "evalue": "ignored",
          "traceback": [
            "\u001b[0;31m---------------------------------------------------------------------------\u001b[0m",
            "\u001b[0;31mNameError\u001b[0m                                 Traceback (most recent call last)",
            "\u001b[0;32m<ipython-input-2-df569bf37302>\u001b[0m in \u001b[0;36m<module>\u001b[0;34m()\u001b[0m\n\u001b[0;32m----> 1\u001b[0;31m \u001b[0mbig_lil\u001b[0m\u001b[0;34m[\u001b[0m\u001b[0;34m[\u001b[0m\u001b[0;34m'kepid'\u001b[0m\u001b[0;34m,\u001b[0m\u001b[0;34m'kepler_name'\u001b[0m\u001b[0;34m,\u001b[0m\u001b[0;34m'koi_srad'\u001b[0m\u001b[0;34m,\u001b[0m\u001b[0;34m'koi_prad'\u001b[0m\u001b[0;34m]\u001b[0m\u001b[0;34m]\u001b[0m\u001b[0;34m\u001b[0m\u001b[0;34m\u001b[0m\u001b[0m\n\u001b[0m",
            "\u001b[0;31mNameError\u001b[0m: name 'big_lil' is not defined"
          ]
        }
      ]
    },
    {
      "metadata": {
        "id": "ERSxmhOXYBpz",
        "colab_type": "code",
        "outputId": "53f1565a-d269-4b12-db5e-c696b5399f1b",
        "colab": {
          "base_uri": "https://localhost:8080/",
          "height": 163
        }
      },
      "cell_type": "code",
      "source": [
        "big_lil.columns"
      ],
      "execution_count": 0,
      "outputs": [
        {
          "output_type": "error",
          "ename": "NameError",
          "evalue": "ignored",
          "traceback": [
            "\u001b[0;31m---------------------------------------------------------------------------\u001b[0m",
            "\u001b[0;31mNameError\u001b[0m                                 Traceback (most recent call last)",
            "\u001b[0;32m<ipython-input-1-96f769157ca2>\u001b[0m in \u001b[0;36m<module>\u001b[0;34m()\u001b[0m\n\u001b[0;32m----> 1\u001b[0;31m \u001b[0mbig_lil\u001b[0m\u001b[0;34m.\u001b[0m\u001b[0mcolumns\u001b[0m\u001b[0;34m\u001b[0m\u001b[0;34m\u001b[0m\u001b[0m\n\u001b[0m",
            "\u001b[0;31mNameError\u001b[0m: name 'big_lil' is not defined"
          ]
        }
      ]
    },
    {
      "metadata": {
        "id": "lQLkTbnuYPZx",
        "colab_type": "code",
        "colab": {}
      },
      "cell_type": "code",
      "source": [
        ""
      ],
      "execution_count": 0,
      "outputs": []
    }
  ]
}